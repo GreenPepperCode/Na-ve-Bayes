{
 "cells": [
  {
   "cell_type": "code",
   "execution_count": 15,
   "metadata": {},
   "outputs": [
    {
     "name": "stdout",
     "output_type": "stream",
     "text": [
      "              precision    recall  f1-score   support\n",
      "\n",
      "         BUG       0.13      0.12      0.12        34\n",
      "        DARK       0.00      0.00      0.00        19\n",
      "      DRAGON       0.00      0.00      0.00        20\n",
      "    ELECTRIC       0.15      0.21      0.18        14\n",
      "       FAIRY       0.00      0.00      0.00        11\n",
      "    FIGHTING       0.13      0.11      0.12        18\n",
      "        FIRE       0.18      0.20      0.19        25\n",
      "      FLYING       0.03      0.03      0.03        37\n",
      "       GHOST       0.11      0.20      0.14        15\n",
      "       GRASS       0.05      0.09      0.06        34\n",
      "      GROUND       0.00      0.00      0.00        21\n",
      "         ICE       0.00      0.00      0.00        14\n",
      "      NORMAL       0.10      0.11      0.11        36\n",
      "      POISON       0.05      0.03      0.04        31\n",
      "     PSYCHIC       0.22      0.16      0.19        37\n",
      "        ROCK       0.00      0.00      0.00        25\n",
      "       STEEL       0.07      0.05      0.06        20\n",
      "       WATER       0.10      0.07      0.08        57\n",
      "\n",
      "    accuracy                           0.08       468\n",
      "   macro avg       0.07      0.08      0.07       468\n",
      "weighted avg       0.08      0.08      0.08       468\n",
      "\n"
     ]
    }
   ],
   "source": [
    "from sklearn.tree import DecisionTreeClassifier\n",
    "from sklearn.model_selection import train_test_split\n",
    "from sklearn.metrics import classification_report\n",
    "from sklearn.preprocessing import LabelEncoder\n",
    "import pandas as pd\n",
    "\n",
    "# Charger les données\n",
    "df = pd.read_excel('pokemon.xlsx')\n",
    "\n",
    "# Encoder les types de Pokémon\n",
    "label_encoder = LabelEncoder()\n",
    "df['Type'] = label_encoder.fit_transform(df['Type'])\n",
    "\n",
    "# Sélectionner les caractéristiques et la cible\n",
    "features = ['HP', 'Attack', 'Defense', 'Special Attack', 'Special Defense', 'Speed']\n",
    "X = df[features]\n",
    "y = df['Type']\n",
    "\n",
    "# Diviser les données\n",
    "X_train, X_test, y_train, y_test = train_test_split(X, y, test_size=0.4, random_state=42)\n",
    "\n",
    "# Construire le modèle\n",
    "model = DecisionTreeClassifier()\n",
    "\n",
    "# Entraîner le modèle\n",
    "model.fit(X_train, y_train)\n",
    "\n",
    "# Faire des prédictions\n",
    "y_pred = model.predict(X_test)\n",
    "\n",
    "# Évaluer le modèle\n",
    "print(classification_report(y_test, y_pred, target_names=label_encoder.classes_))\n"
   ]
  }
 ],
 "metadata": {
  "language_info": {
   "name": "python"
  }
 },
 "nbformat": 4,
 "nbformat_minor": 2
}
