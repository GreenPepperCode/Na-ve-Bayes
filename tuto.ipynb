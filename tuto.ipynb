{
 "cells": [
  {
   "cell_type": "code",
   "execution_count": 3,
   "metadata": {},
   "outputs": [
    {
     "name": "stdout",
     "output_type": "stream",
     "text": [
      "              precision    recall  f1-score   support\n",
      "\n",
      "         BUG       0.00      0.00      0.00        17\n",
      "        DARK       0.09      0.11      0.10         9\n",
      "      DRAGON       0.00      0.00      0.00        13\n",
      "    ELECTRIC       0.00      0.00      0.00         6\n",
      "       FAIRY       0.00      0.00      0.00         7\n",
      "    FIGHTING       0.07      0.08      0.08        12\n",
      "        FIRE       0.23      0.30      0.26        10\n",
      "      FLYING       0.09      0.11      0.10        19\n",
      "       GHOST       0.00      0.00      0.00         4\n",
      "       GRASS       0.04      0.07      0.05        15\n",
      "      GROUND       0.04      0.12      0.06         8\n",
      "         ICE       0.00      0.00      0.00         7\n",
      "      NORMAL       0.27      0.14      0.19        21\n",
      "      POISON       0.09      0.07      0.08        15\n",
      "     PSYCHIC       0.08      0.06      0.07        17\n",
      "        ROCK       0.00      0.00      0.00        15\n",
      "       STEEL       0.00      0.00      0.00        10\n",
      "       WATER       0.05      0.03      0.04        29\n",
      "\n",
      "    accuracy                           0.06       234\n",
      "   macro avg       0.06      0.06      0.06       234\n",
      "weighted avg       0.07      0.06      0.06       234\n",
      "\n"
     ]
    }
   ],
   "source": [
    "from sklearn.tree import DecisionTreeClassifier\n",
    "from sklearn.model_selection import train_test_split\n",
    "from sklearn.metrics import classification_report\n",
    "from sklearn.preprocessing import LabelEncoder\n",
    "import pandas as pd\n",
    "\n",
    "# Charger les données\n",
    "df = pd.read_excel('pokemon.xlsx')\n",
    "\n",
    "# Encoder les types de Pokémon\n",
    "label_encoder = LabelEncoder()\n",
    "df['Type'] = label_encoder.fit_transform(df['Type'])\n",
    "\n",
    "# Sélectionner les caractéristiques et la cible\n",
    "features = ['HP', 'Attack', 'Defense', 'Special Attack', 'Special Defense', 'Speed']\n",
    "X = df[features]\n",
    "y = df['Type']\n",
    "\n",
    "# Diviser les données\n",
    "X_train, X_test, y_train, y_test = train_test_split(X, y, test_size=0.2, random_state=42)\n",
    "\n",
    "# Construire le modèle\n",
    "model = DecisionTreeClassifier()\n",
    "\n",
    "# Entraîner le modèle\n",
    "model.fit(X_train, y_train)\n",
    "\n",
    "# Faire des prédictions\n",
    "y_pred = model.predict(X_test)\n",
    "\n",
    "# Évaluer le modèle\n",
    "print(classification_report(y_test, y_pred, target_names=label_encoder.classes_))\n"
   ]
  }
 ],
 "metadata": {
  "kernelspec": {
   "display_name": "Python 3",
   "language": "python",
   "name": "python3"
  },
  "language_info": {
   "codemirror_mode": {
    "name": "ipython",
    "version": 3
   },
   "file_extension": ".py",
   "mimetype": "text/x-python",
   "name": "python",
   "nbconvert_exporter": "python",
   "pygments_lexer": "ipython3",
   "version": "3.12.1"
  }
 },
 "nbformat": 4,
 "nbformat_minor": 2
}
