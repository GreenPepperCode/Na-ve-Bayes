{
 "cells": [
  {
   "cell_type": "code",
   "execution_count": 17,
   "metadata": {},
   "outputs": [],
   "source": [
    "import pandas as pd\n",
    "from sklearn.model_selection import train_test_split\n",
    "from sklearn.naive_bayes import GaussianNB\n",
    "from sklearn.metrics import accuracy_score\n",
    "from sklearn.preprocessing import LabelEncoder\n",
    "from sklearn.tree import DecisionTreeClassifier\n",
    "from sklearn.metrics import classification_report\n"
   ]
  },
  {
   "cell_type": "markdown",
   "metadata": {},
   "source": [
    "Version Bayes"
   ]
  },
  {
   "cell_type": "code",
   "execution_count": 19,
   "metadata": {},
   "outputs": [
    {
     "name": "stdout",
     "output_type": "stream",
     "text": [
      "Accuracy: 14.96%\n"
     ]
    }
   ],
   "source": [
    "# Charger les données\n",
    "df = pd.read_excel('pokemon.xlsx')\n",
    "\n",
    "# Encoder les types de Pokémon\n",
    "label_encoder = LabelEncoder()\n",
    "df['Type'] = label_encoder.fit_transform(df['Type'])\n",
    "\n",
    "# Sélectionner les caractéristiques et l'étiquette\n",
    "features = ['HP', 'Attack', 'Defense', 'Special Attack', 'Special Defense', 'Speed']\n",
    "X = df[features]\n",
    "y = df['Type']\n",
    "\n",
    "# Diviser les données en un ensemble d'entraînement et un ensemble de test\n",
    "X_train, X_test, y_train, y_test = train_test_split(X, y, test_size=0.4, random_state=42)\n",
    "\n",
    "# Créer une instance de l’objet GaussianNB\n",
    "model = GaussianNB()\n",
    "\n",
    "# Entraîner le modèle\n",
    "model.fit(X_train, y_train)\n",
    "\n",
    "# Faire des prédictions sur l'ensemble de test\n",
    "y_pred = model.predict(X_test)\n",
    "\n",
    "# Calculer et imprimer la précision du modèle\n",
    "accuracy = accuracy_score(y_test, y_pred)\n",
    "print(f'Accuracy: {accuracy * 100:.2f}%')\n"
   ]
  },
  {
   "cell_type": "markdown",
   "metadata": {},
   "source": [
    "Version DecisionTree"
   ]
  },
  {
   "cell_type": "code",
   "execution_count": 20,
   "metadata": {},
   "outputs": [
    {
     "name": "stdout",
     "output_type": "stream",
     "text": [
      "              precision    recall  f1-score   support\n",
      "\n",
      "         BUG       0.12      0.12      0.12        34\n",
      "        DARK       0.00      0.00      0.00        19\n",
      "      DRAGON       0.00      0.00      0.00        20\n",
      "    ELECTRIC       0.13      0.21      0.16        14\n",
      "       FAIRY       0.00      0.00      0.00        11\n",
      "    FIGHTING       0.09      0.11      0.10        18\n",
      "        FIRE       0.25      0.20      0.22        25\n",
      "      FLYING       0.03      0.03      0.03        37\n",
      "       GHOST       0.14      0.20      0.16        15\n",
      "       GRASS       0.05      0.09      0.06        34\n",
      "      GROUND       0.00      0.00      0.00        21\n",
      "         ICE       0.00      0.00      0.00        14\n",
      "      NORMAL       0.12      0.14      0.13        36\n",
      "      POISON       0.00      0.00      0.00        31\n",
      "     PSYCHIC       0.19      0.16      0.18        37\n",
      "        ROCK       0.09      0.04      0.06        25\n",
      "       STEEL       0.00      0.00      0.00        20\n",
      "       WATER       0.10      0.07      0.08        57\n",
      "\n",
      "    accuracy                           0.08       468\n",
      "   macro avg       0.07      0.08      0.07       468\n",
      "weighted avg       0.08      0.08      0.08       468\n",
      "\n"
     ]
    }
   ],
   "source": [
    "# Charger les données\n",
    "df = pd.read_excel('pokemon.xlsx')\n",
    "\n",
    "# Encoder les types de Pokémon\n",
    "label_encoder = LabelEncoder()\n",
    "df['Type'] = label_encoder.fit_transform(df['Type'])\n",
    "\n",
    "# Sélectionner les caractéristiques et la cible\n",
    "features = ['HP', 'Attack', 'Defense', 'Special Attack', 'Special Defense', 'Speed']\n",
    "X = df[features]\n",
    "y = df['Type']\n",
    "\n",
    "# Diviser les données\n",
    "X_train, X_test, y_train, y_test = train_test_split(X, y, test_size=0.4, random_state=42)\n",
    "\n",
    "# Construire le modèle\n",
    "model = DecisionTreeClassifier()\n",
    "\n",
    "# Entraîner le modèle\n",
    "model.fit(X_train, y_train)\n",
    "\n",
    "# Faire des prédictions\n",
    "y_pred = model.predict(X_test)\n",
    "\n",
    "# Évaluer le modèle\n",
    "print(classification_report(y_test, y_pred, target_names=label_encoder.classes_))\n"
   ]
  }
 ],
 "metadata": {
  "language_info": {
   "name": "python"
  }
 },
 "nbformat": 4,
 "nbformat_minor": 2
}
